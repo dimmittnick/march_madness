{
 "cells": [
  {
   "cell_type": "code",
   "execution_count": 1,
   "metadata": {},
   "outputs": [],
   "source": [
    "import requests\n",
    "import pandas as pd\n",
    "import json\n",
    "from lxml import html, etree\n",
    "from kenpompy.utils import login\n",
    "import kenpompy.summary as kp\n",
    "import kenpompy.team as kpt"
   ]
  },
  {
   "cell_type": "code",
   "execution_count": 2,
   "metadata": {},
   "outputs": [],
   "source": [
    "seasons = [str(x) for x in range(2010,2024)]"
   ]
  },
  {
   "cell_type": "code",
   "execution_count": 3,
   "metadata": {},
   "outputs": [],
   "source": [
    "browser = login(\"jgrearson21@gmail.com\", \"IUBB2022\")"
   ]
  },
  {
   "cell_type": "code",
   "execution_count": 4,
   "metadata": {},
   "outputs": [],
   "source": [
    "eff_stats = pd.DataFrame()\n",
    "four_factors = pd.DataFrame()\n",
    "point_distribution = pd.DataFrame()\n",
    "height_exp = pd.DataFrame()\n",
    "misc_d = pd.DataFrame()\n",
    "misc_o = pd.DataFrame()\n",
    "\n",
    "for season in seasons:\n",
    "\n",
    "    if season == 2020:\n",
    "        continue\n",
    "    else:\n",
    "        eff_stats_temp = kp.get_efficiency(browser=browser, season=season)\n",
    "        four_factors_temp = kp.get_fourfactors(browser=browser, season=season)\n",
    "        point_distribution_temp = kp.get_pointdist(browser=browser, season=season)\n",
    "        height_exp_temp = kp.get_height(browser=browser, season=season)\n",
    "        misc_d_temp = kp.get_teamstats(browser=browser, defense=True, season=season)\n",
    "        misc_o_temp = kp.get_teamstats(browser=browser, defense=False, season=season)\n",
    "\n",
    "        eff_stats_temp['season'] = season\n",
    "        four_factors_temp['season'] = season\n",
    "        point_distribution_temp['season'] = season\n",
    "        height_exp_temp['season'] = season\n",
    "        misc_d_temp['season'] = season\n",
    "        misc_o_temp['season'] = season\n",
    "\n",
    "        \n",
    "\n",
    "        eff_stats = pd.concat([eff_stats, eff_stats_temp])\n",
    "        four_factors = pd.concat([four_factors, four_factors_temp])\n",
    "        point_distribution = pd.concat([point_distribution, point_distribution_temp])\n",
    "        height_exp = pd.concat([height_exp, height_exp_temp])\n",
    "        misc_d = pd.concat([misc_d, misc_d_temp])\n",
    "        misc_o = pd.concat([misc_o, misc_o_temp])\n"
   ]
  },
  {
   "cell_type": "code",
   "execution_count": 5,
   "metadata": {},
   "outputs": [],
   "source": [
    "eff_stats.to_csv(\"/Users/nickdimmitt/Desktop/dfs_local/ncaab/eff_stats.csv\")\n",
    "four_factors.to_csv(\"/Users/nickdimmitt/Desktop/dfs_local/ncaab/four_factors.csv\")\n",
    "point_distribution.to_csv(\"/Users/nickdimmitt/Desktop/dfs_local/ncaab/point_dict.csv\")\n",
    "height_exp.to_csv(\"/Users/nickdimmitt/Desktop/dfs_local/ncaab/height_exp.csv\")\n",
    "misc_d.to_csv(\"/Users/nickdimmitt/Desktop/dfs_local/ncaab/misc_d.csv\")\n",
    "misc_o.to_csv(\"/Users/nickdimmitt/Desktop/dfs_local/ncaab/misc_o.csv\")"
   ]
  },
  {
   "cell_type": "code",
   "execution_count": 6,
   "metadata": {},
   "outputs": [
    {
     "data": {
      "text/plain": [
       "2023    363\n",
       "2022    358\n",
       "2021    357\n",
       "2019    353\n",
       "2020    353\n",
       "2014    351\n",
       "2015    351\n",
       "2016    351\n",
       "2017    351\n",
       "2018    351\n",
       "2010    347\n",
       "2013    347\n",
       "2011    345\n",
       "2012    345\n",
       "Name: season, dtype: int64"
      ]
     },
     "execution_count": 6,
     "metadata": {},
     "output_type": "execute_result"
    }
   ],
   "source": [
    "misc_o['season'].value_counts()"
   ]
  },
  {
   "cell_type": "code",
   "execution_count": null,
   "metadata": {},
   "outputs": [],
   "source": []
  }
 ],
 "metadata": {
  "kernelspec": {
   "display_name": "Python 3.10.7 64-bit",
   "language": "python",
   "name": "python3"
  },
  "language_info": {
   "codemirror_mode": {
    "name": "ipython",
    "version": 3
   },
   "file_extension": ".py",
   "mimetype": "text/x-python",
   "name": "python",
   "nbconvert_exporter": "python",
   "pygments_lexer": "ipython3",
   "version": "3.10.7"
  },
  "orig_nbformat": 4,
  "vscode": {
   "interpreter": {
    "hash": "aee8b7b246df8f9039afb4144a1f6fd8d2ca17a180786b69acc140d282b71a49"
   }
  }
 },
 "nbformat": 4,
 "nbformat_minor": 2
}

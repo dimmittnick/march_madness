{
 "cells": [
  {
   "cell_type": "code",
   "execution_count": 1,
   "metadata": {},
   "outputs": [],
   "source": [
    "import requests\n",
    "import pandas as pd\n",
    "import json\n",
    "import requests\n",
    "import time\n",
    "from bs4 import BeautifulSoup\n",
    "from _DESAdapter import DESAdapter, environment_requires_DES_adapter\n",
    "import mechanicalsoup"
   ]
  },
  {
   "cell_type": "code",
   "execution_count": 2,
   "metadata": {},
   "outputs": [
    {
     "ename": "LinkNotFoundError",
     "evalue": "",
     "output_type": "error",
     "traceback": [
      "\u001b[0;31m---------------------------------------------------------------------------\u001b[0m",
      "\u001b[0;31mLinkNotFoundError\u001b[0m                         Traceback (most recent call last)",
      "\u001b[0;32m/var/folders/0b/h0zc244107jg60tttkl4r0kw0000gn/T/ipykernel_9476/4045909675.py\u001b[0m in \u001b[0;36m<cell line: 92>\u001b[0;34m()\u001b[0m\n\u001b[1;32m     90\u001b[0m \u001b[0mtable_url\u001b[0m \u001b[0;34m=\u001b[0m \u001b[0;34m\"https://kenpom.com\"\u001b[0m  \u001b[0;31m# Adjust URL format as needed\u001b[0m\u001b[0;34m\u001b[0m\u001b[0;34m\u001b[0m\u001b[0m\n\u001b[1;32m     91\u001b[0m \u001b[0;34m\u001b[0m\u001b[0m\n\u001b[0;32m---> 92\u001b[0;31m \u001b[0mtable_data\u001b[0m \u001b[0;34m=\u001b[0m \u001b[0mget_table_data\u001b[0m\u001b[0;34m(\u001b[0m\u001b[0memail\u001b[0m\u001b[0;34m,\u001b[0m \u001b[0mpassword\u001b[0m\u001b[0;34m,\u001b[0m \u001b[0mtable_url\u001b[0m\u001b[0;34m)\u001b[0m\u001b[0;34m\u001b[0m\u001b[0;34m\u001b[0m\u001b[0m\n\u001b[0m\u001b[1;32m     93\u001b[0m \u001b[0mprint\u001b[0m\u001b[0;34m(\u001b[0m\u001b[0mtable_data\u001b[0m\u001b[0;34m.\u001b[0m\u001b[0mshape\u001b[0m\u001b[0;34m)\u001b[0m\u001b[0;34m\u001b[0m\u001b[0;34m\u001b[0m\u001b[0m\n",
      "\u001b[0;32m/var/folders/0b/h0zc244107jg60tttkl4r0kw0000gn/T/ipykernel_9476/4045909675.py\u001b[0m in \u001b[0;36mget_table_data\u001b[0;34m(email, password, table_url)\u001b[0m\n\u001b[1;32m     57\u001b[0m     \u001b[0mcolumns\u001b[0m \u001b[0;34m=\u001b[0m \u001b[0;34m[\u001b[0m\u001b[0;34m\"Rk\"\u001b[0m\u001b[0;34m,\u001b[0m \u001b[0;34m\"Team\"\u001b[0m\u001b[0;34m,\u001b[0m \u001b[0;34m\"Conf\"\u001b[0m\u001b[0;34m,\u001b[0m \u001b[0;34m\"W-L\"\u001b[0m\u001b[0;34m,\u001b[0m \u001b[0;34m\"AdjEM\"\u001b[0m\u001b[0;34m,\u001b[0m \u001b[0;34m\"AdjO\"\u001b[0m\u001b[0;34m,\u001b[0m \u001b[0;34m\"AdjO_Rk\"\u001b[0m\u001b[0;34m,\u001b[0m \u001b[0;34m\"AdjD\"\u001b[0m\u001b[0;34m,\u001b[0m \u001b[0;34m\"AdjD_Rk\"\u001b[0m\u001b[0;34m,\u001b[0m \u001b[0;34m\"AdjT\"\u001b[0m\u001b[0;34m,\u001b[0m \u001b[0;34m\"AdjT_Rk\"\u001b[0m\u001b[0;34m,\u001b[0m \u001b[0;34m\"Luck\"\u001b[0m\u001b[0;34m,\u001b[0m \u001b[0;34m\"Luck_Rk\"\u001b[0m\u001b[0;34m,\u001b[0m \u001b[0;34m\"SOS\"\u001b[0m\u001b[0;34m,\u001b[0m\u001b[0;34m\"SOS1\"\u001b[0m\u001b[0;34m,\u001b[0m\u001b[0;34m\"SOS2\"\u001b[0m\u001b[0;34m,\u001b[0m\u001b[0;34m\"SOS3\"\u001b[0m\u001b[0;34m,\u001b[0m\u001b[0;34m\"SOS4\"\u001b[0m\u001b[0;34m,\u001b[0m\u001b[0;34m\"SOS5\"\u001b[0m\u001b[0;34m,\u001b[0m\u001b[0;34m\"SOS6\"\u001b[0m\u001b[0;34m,\u001b[0m\u001b[0;34m\"SOS7\"\u001b[0m\u001b[0;34m]\u001b[0m\u001b[0;34m\u001b[0m\u001b[0;34m\u001b[0m\u001b[0m\n\u001b[1;32m     58\u001b[0m \u001b[0;34m\u001b[0m\u001b[0m\n\u001b[0;32m---> 59\u001b[0;31m     \u001b[0msession\u001b[0m \u001b[0;34m=\u001b[0m \u001b[0mlogin\u001b[0m\u001b[0;34m(\u001b[0m\u001b[0memail\u001b[0m\u001b[0;34m,\u001b[0m \u001b[0mpassword\u001b[0m\u001b[0;34m)\u001b[0m\u001b[0;34m\u001b[0m\u001b[0;34m\u001b[0m\u001b[0m\n\u001b[0m\u001b[1;32m     60\u001b[0m     headers = {\n\u001b[1;32m     61\u001b[0m         \u001b[0;34m\"User-Agent\"\u001b[0m\u001b[0;34m:\u001b[0m \u001b[0;34m\"Mozilla/5.0\"\u001b[0m\u001b[0;34m,\u001b[0m\u001b[0;34m\u001b[0m\u001b[0;34m\u001b[0m\u001b[0m\n",
      "\u001b[0;32m/var/folders/0b/h0zc244107jg60tttkl4r0kw0000gn/T/ipykernel_9476/4045909675.py\u001b[0m in \u001b[0;36mlogin\u001b[0;34m(email, password)\u001b[0m\n\u001b[1;32m     24\u001b[0m         \u001b[0;32mraise\u001b[0m \u001b[0mException\u001b[0m\u001b[0;34m(\u001b[0m\u001b[0;34m'Opening kenpom.com failed - request was intercepted by Cloudflare protection'\u001b[0m\u001b[0;34m)\u001b[0m\u001b[0;34m\u001b[0m\u001b[0;34m\u001b[0m\u001b[0m\n\u001b[1;32m     25\u001b[0m     \u001b[0;31m# Select and fill the login form\u001b[0m\u001b[0;34m\u001b[0m\u001b[0;34m\u001b[0m\u001b[0m\n\u001b[0;32m---> 26\u001b[0;31m     \u001b[0mbrowser\u001b[0m\u001b[0;34m.\u001b[0m\u001b[0mselect_form\u001b[0m\u001b[0;34m(\u001b[0m\u001b[0;34m'form[action=\"handlers/login_handler.php\"]'\u001b[0m\u001b[0;34m)\u001b[0m\u001b[0;34m\u001b[0m\u001b[0;34m\u001b[0m\u001b[0m\n\u001b[0m\u001b[1;32m     27\u001b[0m     \u001b[0mbrowser\u001b[0m\u001b[0;34m[\u001b[0m\u001b[0;34m'email'\u001b[0m\u001b[0;34m]\u001b[0m \u001b[0;34m=\u001b[0m \u001b[0memail\u001b[0m\u001b[0;34m\u001b[0m\u001b[0;34m\u001b[0m\u001b[0m\n\u001b[1;32m     28\u001b[0m     \u001b[0mbrowser\u001b[0m\u001b[0;34m[\u001b[0m\u001b[0;34m'password'\u001b[0m\u001b[0;34m]\u001b[0m \u001b[0;34m=\u001b[0m \u001b[0mpassword\u001b[0m\u001b[0;34m\u001b[0m\u001b[0;34m\u001b[0m\u001b[0m\n",
      "\u001b[0;32m/Library/Frameworks/Python.framework/Versions/3.10/lib/python3.10/site-packages/mechanicalsoup/stateful_browser.py\u001b[0m in \u001b[0;36mselect_form\u001b[0;34m(self, selector, nr)\u001b[0m\n\u001b[1;32m    239\u001b[0m                     \u001b[0mprint\u001b[0m\u001b[0;34m(\u001b[0m\u001b[0;34m'select_form failed for'\u001b[0m\u001b[0;34m,\u001b[0m \u001b[0mselector\u001b[0m\u001b[0;34m)\u001b[0m\u001b[0;34m\u001b[0m\u001b[0;34m\u001b[0m\u001b[0m\n\u001b[1;32m    240\u001b[0m                     \u001b[0mself\u001b[0m\u001b[0;34m.\u001b[0m\u001b[0mlaunch_browser\u001b[0m\u001b[0;34m(\u001b[0m\u001b[0;34m)\u001b[0m\u001b[0;34m\u001b[0m\u001b[0;34m\u001b[0m\u001b[0m\n\u001b[0;32m--> 241\u001b[0;31m                 \u001b[0;32mraise\u001b[0m \u001b[0mLinkNotFoundError\u001b[0m\u001b[0;34m(\u001b[0m\u001b[0;34m)\u001b[0m\u001b[0;34m\u001b[0m\u001b[0;34m\u001b[0m\u001b[0m\n\u001b[0m\u001b[1;32m    242\u001b[0m \u001b[0;34m\u001b[0m\u001b[0m\n\u001b[1;32m    243\u001b[0m             \u001b[0mform\u001b[0m \u001b[0;34m=\u001b[0m \u001b[0mfound_forms\u001b[0m\u001b[0;34m[\u001b[0m\u001b[0;34m-\u001b[0m\u001b[0;36m1\u001b[0m\u001b[0;34m]\u001b[0m\u001b[0;34m\u001b[0m\u001b[0;34m\u001b[0m\u001b[0m\n",
      "\u001b[0;31mLinkNotFoundError\u001b[0m: "
     ]
    }
   ],
   "source": [
    "def login(email, password):\n",
    "    \"\"\"\n",
    "    Logs in to kenpom.com using user credentials and returns an authenticated session.\n",
    "    \n",
    "    Args:\n",
    "        email (str): User e-mail for login to kenpom.com.\n",
    "        password (str): User password for login to kenpom.com.\n",
    "        \n",
    "    Returns:\n",
    "        session (requests.Session): Authenticated session with full access to kenpom.com.\n",
    "    \"\"\"\n",
    "\n",
    "    # Fix for Cloudflare SSL profiling\n",
    "    session = requests.Session()\n",
    "    if environment_requires_DES_adapter():\n",
    "        session.mount('https://kenpom.com/', DESAdapter())\n",
    "\n",
    "    # Create a StatefulBrowser to manage login\n",
    "    browser = mechanicalsoup.StatefulBrowser(session)\n",
    "    browser.set_user_agent('Mozilla/5.0')\n",
    "    browser.open('https://kenpom.com/index.php')\n",
    "\n",
    "    if 'Cloudflare' in browser.page.title.string:\n",
    "        raise Exception('Opening kenpom.com failed - request was intercepted by Cloudflare protection')\n",
    "    # Select and fill the login form\n",
    "    browser.select_form('form[action=\"handlers/login_handler.php\"]')\n",
    "    browser['email'] = email\n",
    "    browser['password'] = password\n",
    "    # Submit login form\n",
    "    response = browser.submit_selected()\n",
    "\n",
    "    if response.status_code != 200 or 'PHPSESSID=' not in response.headers.get('set-cookie', ''):\n",
    "        raise Exception('Logging in to kenpom.com failed - check that the site is available and your credentials are correct.')\n",
    "    \n",
    "    if 'subscription expired' in str(browser.get('https://kenpom.com/index.php').content):\n",
    "        raise Exception('Logging in to kenpom.com failed - account subscription is expired')\n",
    "    time.sleep(5)\n",
    "    # Extract cookies from browser to use in the requests session\n",
    "    for cookie in browser.session.cookies:\n",
    "        session.cookies.set(cookie.name, cookie.value)\n",
    "    \n",
    "    return session\n",
    "    \n",
    "def get_table_data(email, password, table_url):\n",
    "    \"\"\"\n",
    "    Logs in to KenPom and retrieves a table from a specified URL.\n",
    "\n",
    "    Args:\n",
    "        email (str): User e-mail for login to kenpom.com.\n",
    "        password (str): User password for login to kenpom.com.\n",
    "        table_url (str): URL of the page containing the table to retrieve.\n",
    "\n",
    "    Returns:\n",
    "        pd.DataFrame: Parsed table data.\n",
    "    \"\"\"\n",
    "    # Define the first 11 columns\n",
    "    columns = [\"Rk\", \"Team\", \"Conf\", \"W-L\", \"AdjEM\", \"AdjO\", \"AdjO_Rk\", \"AdjD\", \"AdjD_Rk\", \"AdjT\", \"AdjT_Rk\", \"Luck\", \"Luck_Rk\", \"SOS\",\"SOS1\",\"SOS2\",\"SOS3\",\"SOS4\",\"SOS5\",\"SOS6\",\"SOS7\"]\n",
    "\n",
    "    session = login(email, password)\n",
    "    headers = {\n",
    "        \"User-Agent\": \"Mozilla/5.0\",\n",
    "        \"Referer\": \"https://kenpom.com/\",\n",
    "        \"Accept-Language\": \"en-US,en;q=0.9\",\n",
    "    }\n",
    "    response = session.get(table_url, headers=headers)\n",
    "    if response.status_code == 200:\n",
    "        soup = BeautifulSoup(response.content, \"html.parser\")\n",
    "        table = soup.find('table', {'id': 'ratings-table'})\n",
    "\n",
    "        data = []\n",
    "        for row in table.find_all('tr')[2:]:  # Skip first two header rows\n",
    "            row_data = []\n",
    "            cells = row.find_all(['td', 'th'])\n",
    "\n",
    "            # Only parse the first 11 cells, then skip to the next row\n",
    "            for i in range(min(21, len(cells))):  # Ensure no index error\n",
    "                row_data.append(cells[i].get_text(strip=True))\n",
    "\n",
    "            # Only add row if it has all 11 columns filled\n",
    "            if len(row_data) == 21:\n",
    "                data.append(row_data)\n",
    "\n",
    "        # Create DataFrame\n",
    "        return pd.DataFrame(data,columns=columns)\n",
    "    else:\n",
    "        raise Exception(f\"Failed to load data page: {response.status_code}\")\n",
    "\n",
    "email = \"nick@ncaainsiders.com\"\n",
    "password = \"dIMMITT2021$\"\n",
    "table_url = \"https://kenpom.com\"  # Adjust URL format as needed\n",
    "\n",
    "table_data = get_table_data(email, password, table_url)\n",
    "print(table_data.shape)"
   ]
  },
  {
   "cell_type": "code",
   "execution_count": 14,
   "metadata": {},
   "outputs": [
    {
     "ename": "NameError",
     "evalue": "name 'table_data' is not defined",
     "output_type": "error",
     "traceback": [
      "\u001b[0;31m---------------------------------------------------------------------------\u001b[0m",
      "\u001b[0;31mNameError\u001b[0m                                 Traceback (most recent call last)",
      "\u001b[0;32m/var/folders/0b/h0zc244107jg60tttkl4r0kw0000gn/T/ipykernel_99429/1425236109.py\u001b[0m in \u001b[0;36m<cell line: 1>\u001b[0;34m()\u001b[0m\n\u001b[0;32m----> 1\u001b[0;31m \u001b[0mtable_data\u001b[0m\u001b[0;34m.\u001b[0m\u001b[0mto_csv\u001b[0m\u001b[0;34m(\u001b[0m\u001b[0;34m\"/Users/nickdimmitt/Desktop/lumber/ncaab/team-stats.csv\"\u001b[0m\u001b[0;34m)\u001b[0m\u001b[0;34m\u001b[0m\u001b[0;34m\u001b[0m\u001b[0m\n\u001b[0m",
      "\u001b[0;31mNameError\u001b[0m: name 'table_data' is not defined"
     ]
    }
   ],
   "source": [
    "table_data.to_csv(\"/Users/nickdimmitt/Desktop/lumber/ncaab/team-stats.csv\")"
   ]
  },
  {
   "cell_type": "code",
   "execution_count": null,
   "metadata": {},
   "outputs": [],
   "source": []
  }
 ],
 "metadata": {
  "kernelspec": {
   "display_name": "Python 3.10.7 64-bit",
   "language": "python",
   "name": "python3"
  },
  "language_info": {
   "codemirror_mode": {
    "name": "ipython",
    "version": 3
   },
   "file_extension": ".py",
   "mimetype": "text/x-python",
   "name": "python",
   "nbconvert_exporter": "python",
   "pygments_lexer": "ipython3",
   "version": "3.10.7"
  },
  "orig_nbformat": 4,
  "vscode": {
   "interpreter": {
    "hash": "aee8b7b246df8f9039afb4144a1f6fd8d2ca17a180786b69acc140d282b71a49"
   }
  }
 },
 "nbformat": 4,
 "nbformat_minor": 2
}

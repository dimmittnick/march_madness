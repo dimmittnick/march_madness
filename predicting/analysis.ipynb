{
 "cells": [
  {
   "cell_type": "code",
   "execution_count": 53,
   "metadata": {},
   "outputs": [],
   "source": [
    "import pandas as pd\n",
    "import numpy as np\n",
    "import warnings\n",
    "warnings.filterwarnings(\"ignore\")\n",
    "import matplotlib.pyplot as plt"
   ]
  },
  {
   "cell_type": "markdown",
   "metadata": {},
   "source": [
    "## Data"
   ]
  },
  {
   "cell_type": "code",
   "execution_count": 54,
   "metadata": {},
   "outputs": [],
   "source": [
    "df = pd.read_csv(\"~/Desktop/dfs_local/ncaab/mm_df.csv\")"
   ]
  },
  {
   "cell_type": "code",
   "execution_count": 55,
   "metadata": {},
   "outputs": [],
   "source": [
    "df.loc[(df['season'] == 2023) & (df['team'] == 'Kansas'), 'seed'] = 1\n",
    "df.loc[(df['season'] == 2023) & (df['team'] == 'Alabama'), 'seed'] = 1 \n",
    "df.loc[(df['season'] == 2023) & (df['team'] == 'Purdue'), 'seed'] = 1 \n",
    "df.loc[(df['season'] == 2023) & (df['team'] == 'Houston'), 'seed'] = 1 \n",
    "\n",
    "df.loc[(df['season'] == 2023) & (df['team'] == 'UCLA'), 'seed'] = 2 \n",
    "df.loc[(df['season'] == 2023) & (df['team'] == 'Texas'), 'seed'] = 2 \n",
    "df.loc[(df['season'] == 2023) & (df['team'] == 'Arizona'), 'seed'] = 2\n",
    "df.loc[(df['season'] == 2023) & (df['team'] == 'Marquette'), 'seed'] = 2 \n",
    "\n",
    "df.loc[(df['season'] == 2023) & (df['team'] == 'Gonzaga'), 'seed'] = 3 \n",
    "df.loc[(df['season'] == 2023) & (df['team'] == 'Baylor'), 'seed'] = 3 \n",
    "df.loc[(df['season'] == 2023) & (df['team'] == 'Xavier'), 'seed'] = 3 \n",
    "df.loc[(df['season'] == 2023) & (df['team'] == 'Kansas St.'), 'seed'] = 3 \n",
    "\n",
    "df.loc[(df['season'] == 2023) & (df['team'] == 'Connecticut'), 'seed'] = 4 \n",
    "df.loc[(df['season'] == 2023) & (df['team'] == 'Tennessee'), 'seed'] = 4 \n",
    "df.loc[(df['season'] == 2023) & (df['team'] == 'Indiana'), 'seed'] = 4 \n",
    "df.loc[(df['season'] == 2023) & (df['team'] == 'Virginia'), 'seed'] = 4 \n",
    "\n",
    "df.loc[(df['season'] == 2023) & (df['team'] == \"Saint Mary's\"), 'seed'] = 5 \n",
    "df.loc[(df['season'] == 2023) & (df['team'] == 'San Diego St.'), 'seed'] = 5 \n",
    "df.loc[(df['season'] == 2023) & (df['team'] == 'Duke'), 'seed'] = 5 \n",
    "df.loc[(df['season'] == 2023) & (df['team'] == 'Miami FL'), 'seed'] = 5 \n",
    "\n",
    "df.loc[(df['season'] == 2023) & (df['team'] == 'Iowa St.'), 'seed'] = 6 \n",
    "df.loc[(df['season'] == 2023) & (df['team'] == 'Creighton'), 'seed'] = 6 \n",
    "df.loc[(df['season'] == 2023) & (df['team'] == 'TCU'), 'seed'] = 6 \n",
    "df.loc[(df['season'] == 2023) & (df['team'] == 'Kentucky'), 'seed'] = 6 \n",
    "\n",
    "df.loc[(df['season'] == 2023) & (df['team'] == 'Michigan St.'), 'seed'] = 7\n",
    "df.loc[(df['season'] == 2023) & (df['team'] == 'Texas A&M'), 'seed'] = 7 \n",
    "df.loc[(df['season'] == 2023) & (df['team'] == 'Northwestern'), 'seed'] = 7 \n",
    "df.loc[(df['season'] == 2023) & (df['team'] == 'Missouri'), 'seed'] = 7 \n",
    "\n",
    "df.loc[(df['season'] == 2023) & (df['team'] == 'Maryland'), 'seed'] = 8 \n",
    "df.loc[(df['season'] == 2023) & (df['team'] == 'Memphis'), 'seed'] = 8 \n",
    "df.loc[(df['season'] == 2023) & (df['team'] == 'Arkansas'), 'seed'] = 8 \n",
    "df.loc[(df['season'] == 2023) & (df['team'] == 'Iowa'), 'seed'] = 8 \n",
    "\n",
    "\n",
    "df.loc[(df['season'] == 2023) & (df['team'] == 'Illinois'), 'seed'] = 9 \n",
    "df.loc[(df['season'] == 2023) & (df['team'] == 'Florida Atlantic'), 'seed'] = 9 \n",
    "df.loc[(df['season'] == 2023) & (df['team'] == 'Auburn'), 'seed'] = 9 \n",
    "df.loc[(df['season'] == 2023) & (df['team'] == 'West Virginia'), 'seed'] = 9 \n",
    "\n",
    "\n",
    "df.loc[(df['season'] == 2023) & (df['team'] == 'Utah St.'), 'seed'] = 10 \n",
    "df.loc[(df['season'] == 2023) & (df['team'] == 'USC'), 'seed'] = 10\n",
    "df.loc[(df['season'] == 2023) & (df['team'] == 'Penn St.'), 'seed'] = 10\n",
    "df.loc[(df['season'] == 2023) & (df['team'] == 'Boise St.'), 'seed'] = 10\n",
    "\n",
    "\n",
    "df.loc[(df['season'] == 2023) & (df['team'] == 'Nevada'), 'seed'] = 11\n",
    "df.loc[(df['season'] == 2023) & (df['team'] == 'Providence'), 'seed'] = 11 \n",
    "df.loc[(df['season'] == 2023) & (df['team'] == 'Mississippi St.'), 'seed'] = 11\n",
    "df.loc[(df['season'] == 2023) & (df['team'] == 'N.C. State'), 'seed'] = 11\n",
    "df.loc[(df['season'] == 2023) & (df['team'] == 'Arizona St.'), 'seed'] = 11\n",
    "df.loc[(df['season'] == 2023) & (df['team'] == 'Pittsburgh'), 'seed'] = 11\n",
    "\n",
    "\n",
    "df.loc[(df['season'] == 2023) & (df['team'] == 'Oral Roberts'), 'seed'] = 12\n",
    "df.loc[(df['season'] == 2023) & (df['team'] == 'Drake'), 'seed'] = 12\n",
    "df.loc[(df['season'] == 2023) & (df['team'] == 'Charleston'), 'seed'] = 12\n",
    "df.loc[(df['season'] == 2023) & (df['team'] == 'VCU'), 'seed'] = 12\n",
    "\n",
    "df.loc[(df['season'] == 2023) & (df['team'] == 'Iona'), 'seed'] = 13 \n",
    "df.loc[(df['season'] == 2023) & (df['team'] == 'Furman'), 'seed'] = 13 \n",
    "df.loc[(df['season'] == 2023) & (df['team'] == 'Louisiana'), 'seed'] = 13 \n",
    "df.loc[(df['season'] == 2023) & (df['team'] == 'Kent St.'), 'seed'] = 13\n",
    "\n",
    "\n",
    "df.loc[(df['season'] == 2023) & (df['team'] == 'Grand Canyon'), 'seed'] = 14 \n",
    "df.loc[(df['season'] == 2023) & (df['team'] == 'Montana St.'), 'seed'] = 14 \n",
    "df.loc[(df['season'] == 2023) & (df['team'] == 'Kennesaw St.'), 'seed'] = 14 \n",
    "df.loc[(df['season'] == 2023) & (df['team'] == 'UC Santa Barbara'), 'seed'] = 14\n",
    "\n",
    "\n",
    "df.loc[(df['season'] == 2023) & (df['team'] == 'Princeton'), 'seed'] = 15 \n",
    "df.loc[(df['season'] == 2023) & (df['team'] == 'Vermont'), 'seed'] = 15 \n",
    "df.loc[(df['season'] == 2023) & (df['team'] == 'Colgate'), 'seed'] = 15 \n",
    "df.loc[(df['season'] == 2023) & (df['team'] == 'UNC Asheville'), 'seed'] = 15 \n",
    "\n",
    "\n",
    "df.loc[(df['season'] == 2023) & (df['team'] == 'Northern Kentucky'), 'seed'] = 16\n",
    "df.loc[(df['season'] == 2023) & (df['team'] == 'Texas A&M Corpus Chris'), 'seed'] = 16 \n",
    "df.loc[(df['season'] == 2023) & (df['team'] == 'Southeast Missouri St.'), 'seed'] = 16 \n",
    "df.loc[(df['season'] == 2023) & (df['team'] == 'Texas Southern'), 'seed'] = 16\n",
    "df.loc[(df['season'] == 2023) & (df['team'] == 'Fairleigh Dickinson'), 'seed'] = 16\n",
    "df.loc[(df['season'] == 2023) & (df['team'] == 'Howard'), 'seed'] = 16"
   ]
  },
  {
   "cell_type": "markdown",
   "metadata": {},
   "source": [
    "## Clustering"
   ]
  },
  {
   "cell_type": "markdown",
   "metadata": {},
   "source": [
    "### K-Means"
   ]
  },
  {
   "cell_type": "code",
   "execution_count": 56,
   "metadata": {},
   "outputs": [],
   "source": [
    "df = df[~df['seed'].isna()]"
   ]
  },
  {
   "cell_type": "code",
   "execution_count": 57,
   "metadata": {},
   "outputs": [],
   "source": [
    "df = df.dropna(subset='def_e_fg_%_rank',axis=0)\n",
    "df = df.loc[:,~df.columns.str.contains(\"Unnamed\")]"
   ]
  },
  {
   "cell_type": "code",
   "execution_count": 58,
   "metadata": {},
   "outputs": [],
   "source": [
    "features = ['conference', 'tempo_adj', 'tempo_adj_rank', 'tempo_raw',\n",
    "       'tempo_raw_rank', 'avg_poss_length_offense',\n",
    "       'avg_poss_length_offense_rank', 'avg_poss_length_defense',\n",
    "       'avg_poss_length_defense_rank', 'off_efficiency_adj',\n",
    "       'off_efficiency_adj_rank', 'off_efficiency_raw',\n",
    "       'off_efficiency_raw_rank', 'def_efficiency_adj',\n",
    "       'def_efficiency_adj_rank', 'def_efficiency_raw',\n",
    "       'def_efficiency_raw_rank', '3_p_%_d', '3_p_%_rank_d',\n",
    "       '2_p_%_d', '2_p_%_rank_d', 'ft_%_d', 'ft_%_rank_d', 'blk_%_d',\n",
    "       'blk_%_rank_d', 'stl_%_d', 'stl_%_rank_d', 'a_%_d', 'a_%_rank_d',\n",
    "       '3_pa_%_d', '3_pa_%_rank_d', 'adj_de_d', 'adj_de_rank_d', '3_p_%',\n",
    "       '3_p_%_rank', '2_p_%', '2_p_%_rank', 'ft_%', 'ft_%_rank', 'blk_%',\n",
    "       'blk_%_rank', 'stl_%', 'stl_%_rank', 'a_%', 'a_%_rank', '3_pa_%',\n",
    "       '3_pa_%_rank', 'adj_oe_x', 'adj_oe_rank_x', 'adj_tempo',\n",
    "       'adj_tempo_rank', 'off_e_fg_%', 'off_e_fg_%_rank', 'off_to_%',\n",
    "       'off_to_%_rank', 'off_or_%', 'off_or_%_rank', 'off_ft_rate',\n",
    "       'off_ft_rate_rank', 'adj_de', 'adj_de_rank', 'def_e_fg_%',\n",
    "       'def_e_fg_%_rank', 'def_to_%', 'def_to_%_rank', 'def_or_%',\n",
    "       'def_or_%_rank', 'def_ft_rate', 'def_ft_rate_rank', 'avg_hgt',\n",
    "       'avg_hgt_rank', 'eff_hgt', 'eff_hgt_rank', 'c_hgt', 'c_hgt_rank',\n",
    "       'pf_hgt', 'pf_hgt_rank', 'sf_hgt', 'sf_hgt_rank', 'sg_hgt',\n",
    "       'sg_hgt_rank', 'pg_hgt', 'pg_hgt_rank', 'experience',\n",
    "       'experience_rank', 'bench', 'bench_rank', 'continuity',\n",
    "       'continuity_rank', 'off_ft', 'off_ft_rank', 'off_2_p',\n",
    "       'off_2_p_rank', 'off_3_p', 'off_3_p_rank', 'def_ft', 'def_ft_rank',\n",
    "       'def_2_p', 'def_2_p_rank', 'def_3_p', 'def_3_p_rank']"
   ]
  },
  {
   "cell_type": "code",
   "execution_count": 59,
   "metadata": {},
   "outputs": [],
   "source": [
    "## clustering with k means\n",
    "from sklearn.cluster import KMeans\n",
    "from sklearn.preprocessing import RobustScaler, LabelEncoder\n",
    "\n",
    "le = LabelEncoder()\n",
    "label = le.fit_transform(df['conference'])\n",
    "df['conference'] = label\n",
    "\n",
    "X = df[features]\n",
    "\n",
    "X = RobustScaler().fit_transform(X)\n",
    "\n",
    "final = pd.DataFrame()\n",
    "for x in range(20,200,5):\n",
    "## optimal based on elbow method is 20\n",
    "    kmeans = KMeans(n_clusters=x)\n",
    "    df['labels'] = kmeans.fit_predict(X)\n",
    "\n",
    "\n",
    "    labels = list(df[df['season'] == 2023]['labels'].unique())\n",
    "    df['proj_round'] = df.groupby('labels')['round'].transform(lambda x:x.mean())\n",
    "    final = pd.concat([final, df[df['labels'].isin(labels)]])"
   ]
  },
  {
   "cell_type": "code",
   "execution_count": 40,
   "metadata": {},
   "outputs": [
    {
     "data": {
      "image/png": "[encoded data removed]",
      "text/plain": [
       "<Figure size 640x480 with 1 Axes>"
      ]
     },
     "metadata": {},
     "output_type": "display_data"
    }
   ],
   "source": [
    "Sum_of_squared_distances = []\n",
    "K = range(1,200, 5)\n",
    "for k in K:\n",
    "    km = KMeans(n_clusters=k)\n",
    "    km = km.fit(X)\n",
    "    Sum_of_squared_distances.append(km.inertia_)\n",
    "\n",
    "plt.plot(K, Sum_of_squared_distances, 'bx-')\n",
    "plt.xlabel('k')\n",
    "plt.ylabel('Sum_of_squared_distances')\n",
    "plt.title('Elbow Method For Optimal k')\n",
    "plt.show()"
   ]
  },
  {
   "cell_type": "markdown",
   "metadata": {},
   "source": [
    "### Ward Clustering"
   ]
  },
  {
   "cell_type": "code",
   "execution_count": 60,
   "metadata": {},
   "outputs": [],
   "source": [
    "## clustering with hierarchical clustering\n",
    "from sklearn.cluster import AgglomerativeClustering\n",
    "from sklearn.preprocessing import RobustScaler, LabelEncoder\n",
    "from sklearn.metrics import silhouette_score\n",
    "\n",
    "le = LabelEncoder()\n",
    "label = le.fit_transform(df['conference'])\n",
    "df['conference'] = label\n",
    "\n",
    "X = df[features]\n",
    "X = RobustScaler().fit_transform(X)\n",
    "\n",
    "## optimal is around 300-350\n",
    "clusters = range(250,400,10)\n",
    "for x in clusters:\n",
    "    ward = AgglomerativeClustering(n_clusters=x, linkage='ward')\n",
    "    df['labels'] = ward.fit_predict(X)\n",
    "\n",
    "    labels = list(df[df['season'] == 2023]['labels'].unique())\n",
    "    df['proj_round'] = df.groupby('labels')['round'].transform(lambda x:x.mean())\n",
    "    final = pd.concat([final, df[df['labels'].isin(labels)]])\n",
    "    "
   ]
  },
  {
   "cell_type": "code",
   "execution_count": 39,
   "metadata": {},
   "outputs": [
    {
     "data": {
      "image/png": "[encoded data removed]",
      "text/plain": [
       "<Figure size 640x480 with 1 Axes>"
      ]
     },
     "metadata": {},
     "output_type": "display_data"
    }
   ],
   "source": [
    "range_n_clusters = range(2,500,5)\n",
    "silhouette_avg = []\n",
    "for num_clusters in range_n_clusters:\n",
    " \n",
    " # initialise kmeans\n",
    "    ward = AgglomerativeClustering(n_clusters=num_clusters, linkage='ward')\n",
    "    ward.fit(X)\n",
    "    cluster_labels = ward.labels_\n",
    " \n",
    " # silhouette score\n",
    "    silhouette_avg.append(silhouette_score(X, cluster_labels))\n",
    "plt.plot(range_n_clusters,silhouette_avg,'bx-')\n",
    "plt.xlabel('Values of K') \n",
    "plt.ylabel('Silhouette score') \n",
    "plt.title('Silhouette analysis For Optimal k')\n",
    "plt.show()"
   ]
  },
  {
   "cell_type": "code",
   "execution_count": 61,
   "metadata": {},
   "outputs": [],
   "source": [
    "final = final[final['season'] == 2023]"
   ]
  },
  {
   "cell_type": "code",
   "execution_count": 62,
   "metadata": {},
   "outputs": [],
   "source": [
    "final['proj_round_team'] = final.groupby('team')['proj_round'].transform(lambda x:x.mean())"
   ]
  },
  {
   "cell_type": "code",
   "execution_count": 63,
   "metadata": {},
   "outputs": [],
   "source": [
    "final = final.drop_duplicates(subset='team')"
   ]
  },
  {
   "cell_type": "code",
   "execution_count": 64,
   "metadata": {},
   "outputs": [],
   "source": [
    "final.sort_values('proj_round_team').to_csv('~/Desktop/dfs_local/ncaab/preds/final_mm_2023.csv')"
   ]
  },
  {
   "cell_type": "markdown",
   "metadata": {},
   "source": [
    "## Regression"
   ]
  },
  {
   "cell_type": "code",
   "execution_count": 7,
   "metadata": {},
   "outputs": [],
   "source": [
    "from xgboost import XGBRegressor\n",
    "from sklearn.model_selection import train_test_split\n",
    "from sklearn.preprocessing import LabelEncoder"
   ]
  },
  {
   "cell_type": "code",
   "execution_count": 8,
   "metadata": {},
   "outputs": [],
   "source": [
    "le = LabelEncoder()\n",
    "label = le.fit_transform(df['conference'])\n",
    "df['conference'] = label\n",
    "\n",
    "predict = df[df['season'] == 2023]\n",
    "train = df[df['season'] != 2023]"
   ]
  },
  {
   "cell_type": "code",
   "execution_count": 13,
   "metadata": {},
   "outputs": [
    {
     "name": "stdout",
     "output_type": "stream",
     "text": [
      "0.45481165117051703\n"
     ]
    }
   ],
   "source": [
    "X = train[features]\n",
    "y = train['round']\n",
    "\n",
    "X_train, X_test, y_train, y_test = train_test_split(X,y, random_state=33)\n",
    "\n",
    "model = XGBRegressor(learning_rate = 0.005, n_estimators=2000, max_depth=1)\n",
    "\n",
    "model.fit(X_train,y_train)\n",
    "print(model.score(X_test,y_test))"
   ]
  },
  {
   "cell_type": "code",
   "execution_count": 14,
   "metadata": {},
   "outputs": [],
   "source": [
    "predict['pred_round'] = model.predict(predict[features])"
   ]
  },
  {
   "cell_type": "code",
   "execution_count": 15,
   "metadata": {},
   "outputs": [],
   "source": [
    "predict.sort_values('pred_round').to_csv(\"xgb_mm.csv\")"
   ]
  },
  {
   "cell_type": "code",
   "execution_count": null,
   "metadata": {},
   "outputs": [],
   "source": []
  }
 ],
 "metadata": {
  "kernelspec": {
   "display_name": "Python 3.10.7 64-bit",
   "language": "python",
   "name": "python3"
  },
  "language_info": {
   "codemirror_mode": {
    "name": "ipython",
    "version": 3
   },
   "file_extension": ".py",
   "mimetype": "text/x-python",
   "name": "python",
   "nbconvert_exporter": "python",
   "pygments_lexer": "ipython3",
   "version": "3.10.7"
  },
  "orig_nbformat": 4,
  "vscode": {
   "interpreter": {
    "hash": "aee8b7b246df8f9039afb4144a1f6fd8d2ca17a180786b69acc140d282b71a49"
   }
  }
 },
 "nbformat": 4,
 "nbformat_minor": 2
}

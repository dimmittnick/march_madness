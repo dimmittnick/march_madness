{
 "cells": [
  {
   "cell_type": "code",
   "execution_count": null,
   "metadata": {},
   "outputs": [
    {
     "name": "stdout",
     "output_type": "stream",
     "text": [
      "Normalized probability predictions for all models appended and saved to predictions.csv\n"
     ]
    }
   ],
   "source": [
    "import pandas as pd\n",
    "import joblib\n",
    "\n",
    "def load_model(model_path):\n",
    "    \"\"\"Loads the trained model from file.\"\"\"\n",
    "    return joblib.load(model_path)\n",
    "\n",
    "def preprocess_data(file_path):\n",
    "    \"\"\"Loads and preprocesses the input data for inference.\"\"\"\n",
    "    data = pd.read_csv(file_path)\n",
    "    data = data[['team','seed','rank','net_rating','off_rating','off_rating_rank','def_rating','def_rating_rank','adj_tempo','adj_tempo_rank','free_throws','free_throws_rank','two_pt_fg','two_pt_fg_rank','three_pt_fg','three_pt_fg_rank','def_free_throws','def_free_throws_rank','def_two_pt_fg','def_two_pt_fg_rank','def_three_pt_fg','def_three_pt_fg_rank','avg_hgt','avg_hgt_rank','eff_hgt','eff_hgt_rank','c_hgt','c_hgt_rank','pf_hgt','pf_hgt_rank','sf_hgt','sf_hgt_rank','sg_hgt','sg_hgt_rank','pg_hgt','pg_hgt_rank','experience','experience_rank','bench','bench_rank']]\n",
    "    return data\n",
    "\n",
    "def make_predictions(model, X):\n",
    "    \"\"\"Generates probability predictions using the trained model.\"\"\"\n",
    "    return model.predict_proba(X.drop('team', axis=1))\n",
    "\n",
    "def normalize_probabilities(probs_list):\n",
    "    \"\"\"Normalizes probabilities to ensure logical consistency across rounds.\"\"\"\n",
    "    probs_df = pd.DataFrame(probs_list).cumprod()\n",
    "    return probs_df.div(probs_df.max(axis=1), axis=0)\n",
    "\n",
    "if __name__ == \"__main__\":\n",
    "    r32_model_path = \"best_classification_model_round_32.pkl\"\n",
    "    s16_model_path = \"best_classification_model_sweet_16.pkl\"\n",
    "    e8_model_path = \"best_classification_model_elite_8.pkl\"\n",
    "    f4_model_path = \"best_classification_model_final_4.pkl\"\n",
    "    f_model_path = \"best_classification_model_championship.pkl\"\n",
    "    c_model_path = \"best_classification_model_champion.pkl\"\n",
    "    \n",
    "    new_data_path = \"../data/inference.csv\"\n",
    "    \n",
    "    r32_model = load_model(r32_model_path)\n",
    "    s16_model = load_model(s16_model_path)\n",
    "    e8_model = load_model(e8_model_path)\n",
    "    f4_model = load_model(f4_model_path)\n",
    "    f_model = load_model(f_model_path)\n",
    "    c_model = load_model(c_model_path)\n",
    "    \n",
    "    new_data = preprocess_data(new_data_path)\n",
    "    \n",
    "    r32_predictions = make_predictions(r32_model, new_data)[:, 1]\n",
    "    s16_predictions = make_predictions(s16_model, new_data)[:, 1]\n",
    "    e8_predictions = make_predictions(e8_model, new_data)[:, 1]\n",
    "    f4_predictions = make_predictions(f4_model, new_data)[:, 1]\n",
    "    f_predictions = make_predictions(f_model, new_data)[:, 1]\n",
    "    c_predictions = make_predictions(c_model, new_data)[:, 1]\n",
    "    \n",
    "    normalized_probs = normalize_probabilities([r32_predictions, s16_predictions, e8_predictions, f4_predictions, f_predictions, c_predictions])\n",
    "    \n",
    "    new_data['round_32_prob'] = normalized_probs.iloc[0]\n",
    "    new_data['sweet_16_prob'] = normalized_probs.iloc[1]\n",
    "    new_data['elite_8_prob'] = normalized_probs.iloc[2]\n",
    "    new_data['final_4_prob'] = normalized_probs.iloc[3]\n",
    "    new_data['championship_prob'] = normalized_probs.iloc[4]\n",
    "    new_data['champion_prob'] = normalized_probs.iloc[5]\n",
    "    \n",
    "    new_data.to_csv(\"predictions.csv\", index=False)\n",
    "    print(\"Normalized probability predictions for all models appended and saved to predictions.csv\")"
   ]
  },
  {
   "cell_type": "code",
   "execution_count": null,
   "metadata": {},
   "outputs": [],
   "source": []
  }
 ],
 "metadata": {
  "kernelspec": {
   "display_name": "Python 3",
   "language": "python",
   "name": "python3"
  },
  "language_info": {
   "codemirror_mode": {
    "name": "ipython",
    "version": 3
   },
   "file_extension": ".py",
   "mimetype": "text/x-python",
   "name": "python",
   "nbconvert_exporter": "python",
   "pygments_lexer": "ipython3",
   "version": "3.13.1"
  }
 },
 "nbformat": 4,
 "nbformat_minor": 2
}

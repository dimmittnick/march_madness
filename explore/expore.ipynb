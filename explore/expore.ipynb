{
 "cells": [
  {
   "cell_type": "code",
   "execution_count": 62,
   "metadata": {},
   "outputs": [],
   "source": [
    "import pandas as pd\n",
    "import numpy as np\n",
    "import sys\n",
    "import os\n",
    "from skimpy import clean_columns"
   ]
  },
  {
   "cell_type": "code",
   "execution_count": 31,
   "metadata": {},
   "outputs": [],
   "source": [
    "eff_stats = pd.read_csv(\"~/Desktop/dfs_local/ncaab/eff_stats.csv\")\n",
    "four_factors = pd.read_csv(\"~/Desktop/dfs_local/ncaab/four_factors.csv\")\n",
    "heigh_exp = pd.read_csv(\"~/Desktop/dfs_local/ncaab/height_exp.csv\")\n",
    "misc_d = pd.read_csv(\"~/Desktop/dfs_local/ncaab/misc_d.csv\")\n",
    "misc_o = pd.read_csv(\"~/Desktop/dfs_local/ncaab/misc_o.csv\")\n",
    "point_dist = pd.read_csv(\"~/Desktop/dfs_local/ncaab/point_dict.csv\")\n",
    "df_2010 = pd.read_csv(\"~/Desktop/dfs_local/ncaab/summary10_pt.csv\")\n",
    "df_2011 = pd.read_csv(\"~/Desktop/dfs_local/ncaab/summary11_pt.csv\")\n",
    "df_2012 = pd.read_csv(\"~/Desktop/dfs_local/ncaab/summary12_pt.csv\")\n",
    "df_2013 = pd.read_csv(\"~/Desktop/dfs_local/ncaab/summary13_pt.csv\")\n",
    "df_2014 = pd.read_csv(\"~/Desktop/dfs_local/ncaab/summary14_pt.csv\")\n",
    "df_2015 = pd.read_csv(\"~/Desktop/dfs_local/ncaab/summary15_pt.csv\")\n",
    "df_2016 = pd.read_csv(\"~/Desktop/dfs_local/ncaab/summary16_pt.csv\")\n",
    "df_2017 = pd.read_csv(\"~/Desktop/dfs_local/ncaab/summary17_pt.csv\")\n",
    "df_2018 = pd.read_csv(\"~/Desktop/dfs_local/ncaab/summary18_pt.csv\")\n",
    "df_2019 = pd.read_csv(\"~/Desktop/dfs_local/ncaab/summary19_pt.csv\")\n",
    "df_2021 = pd.read_csv(\"~/Desktop/dfs_local/ncaab/summary21_pt.csv\")\n",
    "df_2022 = pd.read_csv(\"~/Desktop/dfs_local/ncaab/summary22_pt.csv\")\n",
    "tour_data = pd.read_csv(\"~/Desktop/dfs_local/ncaab/tour_team_data.csv\")"
   ]
  },
  {
   "cell_type": "code",
   "execution_count": 19,
   "metadata": {},
   "outputs": [],
   "source": [
    "pre_tour_df = pd.concat([df_2010, df_2011, df_2012, df_2013, df_2014, df_2015, df_2016, df_2017, df_2018, df_2019, df_2021, df_2022])"
   ]
  },
  {
   "cell_type": "code",
   "execution_count": 32,
   "metadata": {},
   "outputs": [],
   "source": [
    "misc_d = misc_d.add_suffix(\"_d\")\n",
    "misc_d = misc_d.rename(columns={'Team_d':'Team', 'Conference_d':'Conference', 'season_d':'season'})\n",
    "misc_df = pd.merge(misc_d, misc_o, on=['Team', 'Conference', 'season'])\n",
    "misc_df = misc_df.loc[:,~misc_df.columns.str.contains(\"Unnamed\")]\n"
   ]
  },
  {
   "cell_type": "code",
   "execution_count": 34,
   "metadata": {},
   "outputs": [],
   "source": [
    "kp_stats_df = pd.merge(eff_stats, misc_df, on=['Team', 'Conference', 'season'])\n",
    "kp_stats_df = kp_stats_df.loc[:,~kp_stats_df.columns.str.contains(\"Unnamed\")]\n",
    "kp_stats_df = pd.merge(kp_stats_df, four_factors, on=['Team', 'Conference', 'season'])\n",
    "kp_stats_df = kp_stats_df.loc[:,~kp_stats_df.columns.str.contains(\"Unnamed\")]\n",
    "kp_stats_df = pd.merge(kp_stats_df, heigh_exp, on=['Team', 'Conference', 'season'])\n",
    "kp_stats_df = kp_stats_df.loc[:,~kp_stats_df.columns.str.contains(\"Unnamed\")]\n",
    "kp_stats_df = pd.merge(kp_stats_df, point_dist, on=['Team', 'Conference', 'season'])\n",
    "kp_stats_df = kp_stats_df.loc[:,~kp_stats_df.columns.str.contains(\"Unnamed\")]"
   ]
  },
  {
   "cell_type": "code",
   "execution_count": 37,
   "metadata": {},
   "outputs": [],
   "source": [
    "kp_stats_df = kp_stats_df.loc[:,~kp_stats_df.columns.str.contains(\"_y\")]"
   ]
  },
  {
   "cell_type": "code",
   "execution_count": 50,
   "metadata": {},
   "outputs": [],
   "source": [
    "tour_data['season'] = tour_data['YEAR']\n",
    "tour_data['Team'] = tour_data['TEAM']"
   ]
  },
  {
   "cell_type": "code",
   "execution_count": 54,
   "metadata": {},
   "outputs": [],
   "source": [
    "tour_data = tour_data.loc[:,['Team', 'season', 'SEED', 'ROUND']]"
   ]
  },
  {
   "cell_type": "code",
   "execution_count": 56,
   "metadata": {},
   "outputs": [],
   "source": [
    "df = pd.merge(kp_stats_df, tour_data, on=['Team', 'season'])"
   ]
  },
  {
   "cell_type": "code",
   "execution_count": 63,
   "metadata": {},
   "outputs": [
    {
     "data": {
      "text/html": [
       "<pre style=\"white-space:pre;overflow-x:auto;line-height:normal;font-family:Menlo,'DejaVu Sans Mono',consolas,'Courier New',monospace\"><span style=\"color: #008080; text-decoration-color: #008080; font-weight: bold\">104</span> column names have been cleaned\n",
       "</pre>\n"
      ],
      "text/plain": [
       "\u001b[1;36m104\u001b[0m column names have been cleaned\n"
      ]
     },
     "metadata": {},
     "output_type": "display_data"
    }
   ],
   "source": [
    "df = clean_columns(df)"
   ]
  },
  {
   "cell_type": "code",
   "execution_count": 65,
   "metadata": {},
   "outputs": [],
   "source": [
    "df = df[['season','team', 'conference', 'seed', 'round', 'tempo_adj', 'tempo_adj_rank', 'tempo_raw',\n",
    "       'tempo_raw_rank', 'avg_poss_length_offense',\n",
    "       'avg_poss_length_offense_rank', 'avg_poss_length_defense',\n",
    "       'avg_poss_length_defense_rank', 'off_efficiency_adj',\n",
    "       'off_efficiency_adj_rank', 'off_efficiency_raw',\n",
    "       'off_efficiency_raw_rank', 'def_efficiency_adj',\n",
    "       'def_efficiency_adj_rank', 'def_efficiency_raw',\n",
    "       'def_efficiency_raw_rank', '3_p_%_d', '3_p_%_rank_d',\n",
    "       '2_p_%_d', '2_p_%_rank_d', 'ft_%_d', 'ft_%_rank_d', 'blk_%_d',\n",
    "       'blk_%_rank_d', 'stl_%_d', 'stl_%_rank_d', 'a_%_d', 'a_%_rank_d',\n",
    "       '3_pa_%_d', '3_pa_%_rank_d', 'adj_de_d', 'adj_de_rank_d', '3_p_%',\n",
    "       '3_p_%_rank', '2_p_%', '2_p_%_rank', 'ft_%', 'ft_%_rank', 'blk_%',\n",
    "       'blk_%_rank', 'stl_%', 'stl_%_rank', 'a_%', 'a_%_rank', '3_pa_%',\n",
    "       '3_pa_%_rank', 'adj_oe_x', 'adj_oe_rank_x', 'adj_tempo',\n",
    "       'adj_tempo_rank', 'off_e_fg_%', 'off_e_fg_%_rank', 'off_to_%',\n",
    "       'off_to_%_rank', 'off_or_%', 'off_or_%_rank', 'off_ft_rate',\n",
    "       'off_ft_rate_rank', 'adj_de', 'adj_de_rank', 'def_e_fg_%',\n",
    "       'def_e_fg_%_rank', 'def_to_%', 'def_to_%_rank', 'def_or_%',\n",
    "       'def_or_%_rank', 'def_ft_rate', 'def_ft_rate_rank', 'avg_hgt',\n",
    "       'avg_hgt_rank', 'eff_hgt', 'eff_hgt_rank', 'c_hgt', 'c_hgt_rank',\n",
    "       'pf_hgt', 'pf_hgt_rank', 'sf_hgt', 'sf_hgt_rank', 'sg_hgt',\n",
    "       'sg_hgt_rank', 'pg_hgt', 'pg_hgt_rank', 'experience',\n",
    "       'experience_rank', 'bench', 'bench_rank', 'continuity',\n",
    "       'continuity_rank', 'off_ft', 'off_ft_rank', 'off_2_p',\n",
    "       'off_2_p_rank', 'off_3_p', 'off_3_p_rank', 'def_ft', 'def_ft_rank',\n",
    "       'def_2_p', 'def_2_p_rank', 'def_3_p', 'def_3_p_rank']]"
   ]
  },
  {
   "cell_type": "code",
   "execution_count": 70,
   "metadata": {},
   "outputs": [],
   "source": [
    "df.to_csv(\"~/Desktop/dfs_local/ncaab/mm_df.csv\")"
   ]
  },
  {
   "cell_type": "code",
   "execution_count": 83,
   "metadata": {},
   "outputs": [
    {
     "name": "stdout",
     "output_type": "stream",
     "text": [
      "round                 1.000000\n",
      "seed                  0.598388\n",
      "def_efficiency_adj    0.501878\n",
      "adj_de                0.501878\n",
      "adj_de_rank           0.476273\n",
      "                        ...   \n",
      "sf_hgt               -0.240079\n",
      "eff_hgt              -0.247402\n",
      "avg_hgt              -0.312554\n",
      "off_efficiency_raw   -0.351738\n",
      "off_efficiency_adj   -0.512550\n",
      "Name: round, Length: 103, dtype: float64\n"
     ]
    }
   ],
   "source": [
    "print(df.corr(numeric_only=True)['round'].sort_values(ascending=False))"
   ]
  },
  {
   "cell_type": "code",
   "execution_count": null,
   "metadata": {},
   "outputs": [],
   "source": []
  }
 ],
 "metadata": {
  "kernelspec": {
   "display_name": "Python 3.10.7 64-bit",
   "language": "python",
   "name": "python3"
  },
  "language_info": {
   "codemirror_mode": {
    "name": "ipython",
    "version": 3
   },
   "file_extension": ".py",
   "mimetype": "text/x-python",
   "name": "python",
   "nbconvert_exporter": "python",
   "pygments_lexer": "ipython3",
   "version": "3.10.7"
  },
  "orig_nbformat": 4,
  "vscode": {
   "interpreter": {
    "hash": "aee8b7b246df8f9039afb4144a1f6fd8d2ca17a180786b69acc140d282b71a49"
   }
  }
 },
 "nbformat": 4,
 "nbformat_minor": 2
}
